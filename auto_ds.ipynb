{
 "cells": [
  {
   "cell_type": "code",
   "execution_count": 19,
   "metadata": {},
   "outputs": [],
   "source": [
    "import numpy as np\n",
    "import pandas as pd\n",
    "from importlib import reload\n",
    "import amazon_parsing as ap\n",
    "import ai_functions as aif\n",
    "import seaborn as sns\n",
    "import matplotlib.pyplot as plt\n",
    "#reload(ap)"
   ]
  },
  {
   "cell_type": "markdown",
   "metadata": {},
   "source": [
    "## Import Amazon product data and reviews\n",
    "- Data description: https://cseweb.ucsd.edu/~jmcauley/datasets/amazon_v2/\n"
   ]
  },
  {
   "cell_type": "code",
   "execution_count": 25,
   "metadata": {},
   "outputs": [],
   "source": [
    "json_parser = ap.AmazonJSONParser()\n",
    "product_data = json_parser.parser('./input/meta_AMAZON_FASHION.json')\n",
    "review_data = json_parser.parser('./input/AMAZON_FASHION.json')"
   ]
  },
  {
   "cell_type": "markdown",
   "metadata": {},
   "source": [
    "## Data cleaning"
   ]
  },
  {
   "cell_type": "code",
   "execution_count": 26,
   "metadata": {},
   "outputs": [
    {
     "name": "stdout",
     "output_type": "stream",
     "text": [
      "<class 'pandas.core.frame.DataFrame'>\n",
      "RangeIndex: 186637 entries, 0 to 186636\n",
      "Data columns (total 16 columns):\n",
      " #   Column           Non-Null Count   Dtype \n",
      "---  ------           --------------   ----- \n",
      " 0   title            186632 non-null  object\n",
      " 1   brand            139957 non-null  object\n",
      " 2   feature          123875 non-null  object\n",
      " 3   rank             180222 non-null  object\n",
      " 4   date             185001 non-null  object\n",
      " 5   asin             186637 non-null  object\n",
      " 6   imageURL         132017 non-null  object\n",
      " 7   imageURLHighRes  132017 non-null  object\n",
      " 8   description      15869 non-null   object\n",
      " 9   price            17799 non-null   object\n",
      " 10  also_view        11595 non-null   object\n",
      " 11  also_buy         21642 non-null   object\n",
      " 12  fit              4831 non-null    object\n",
      " 13  details          885 non-null     object\n",
      " 14  similar_item     317 non-null     object\n",
      " 15  tech1            97 non-null      object\n",
      "dtypes: object(16)\n",
      "memory usage: 22.8+ MB\n"
     ]
    }
   ],
   "source": [
    "product_data.info()"
   ]
  },
  {
   "cell_type": "code",
   "execution_count": 27,
   "metadata": {},
   "outputs": [
    {
     "name": "stdout",
     "output_type": "stream",
     "text": [
      "<class 'pandas.core.frame.DataFrame'>\n",
      "RangeIndex: 883636 entries, 0 to 883635\n",
      "Data columns (total 12 columns):\n",
      " #   Column          Non-Null Count   Dtype  \n",
      "---  ------          --------------   -----  \n",
      " 0   overall         883636 non-null  int64  \n",
      " 1   verified        883636 non-null  bool   \n",
      " 2   reviewTime      883636 non-null  object \n",
      " 3   reviewerID      883636 non-null  object \n",
      " 4   asin            883636 non-null  object \n",
      " 5   reviewerName    883544 non-null  object \n",
      " 6   reviewText      882403 non-null  object \n",
      " 7   summary         883103 non-null  object \n",
      " 8   unixReviewTime  883636 non-null  int64  \n",
      " 9   vote            79900 non-null   float64\n",
      " 10  style           304569 non-null  object \n",
      " 11  image           28807 non-null   object \n",
      "dtypes: bool(1), float64(1), int64(2), object(8)\n",
      "memory usage: 75.0+ MB\n"
     ]
    }
   ],
   "source": [
    "review_data.info()"
   ]
  },
  {
   "cell_type": "markdown",
   "metadata": {},
   "source": [
    "Nearly every variable is qualitative. From the product_data data frame, price will be converted to numeric. From the review_data data frame, unixReviewTime will be converted to datetime.\n",
    "\n",
    "The required variable to merge the datasets is asin. The required variables for the predicted outcome are overall, unixReviewTime, and rank.\n",
    "\n",
    "NLP is required on feature, description, and reviewText. NLP will extract: product features, key sentiments, and an overall sentiment rating."
   ]
  },
  {
   "cell_type": "code",
   "execution_count": 28,
   "metadata": {},
   "outputs": [
    {
     "data": {
      "text/plain": [
       "price\n",
       "16.99 - 19.99     59\n",
       "44.95 - 149.99    21\n",
       "29.18 - 89.93     19\n",
       "11.99 - 19.99     14\n",
       "8.01 - 42.00      12\n",
       "                  ..\n",
       "8.11 - 18.99       1\n",
       "3.99 - 27.99       1\n",
       "5.00 - 25.58       1\n",
       "19.64 - 26.00      1\n",
       "34.45 - 45.00      1\n",
       "Name: count, Length: 2087, dtype: int64"
      ]
     },
     "execution_count": 28,
     "metadata": {},
     "output_type": "execute_result"
    }
   ],
   "source": [
    "# Clean numeric columns\n",
    "product_data['price'] = product_data['price'].str.replace('$','')\n",
    "product_data['price'] = product_data['price'].str.replace(',','')\n",
    "\n",
    "multi_price_mask = product_data['price'].str.contains(r'[^0-9.]', na=False)\n",
    "product_data['price'][multi_price_mask].value_counts()"
   ]
  },
  {
   "cell_type": "code",
   "execution_count": 29,
   "metadata": {},
   "outputs": [],
   "source": [
    "# Take max price, since lower price is often a promotion for less popular items\n",
    "product_data['price'] = np.where(\n",
    "    multi_price_mask,\n",
    "    product_data['price'].str.split('- ', expand=True)[1],\n",
    "    product_data['price']\n",
    ")\n",
    "product_data['price'] = product_data['price'].astype(float)"
   ]
  },
  {
   "cell_type": "markdown",
   "metadata": {},
   "source": [
    "## EDA"
   ]
  },
  {
   "cell_type": "code",
   "execution_count": 34,
   "metadata": {},
   "outputs": [
    {
     "data": {
      "text/plain": [
       "<Figure size 640x480 with 0 Axes>"
      ]
     },
     "metadata": {},
     "output_type": "display_data"
    },
    {
     "data": {
      "image/png": "[encoded data removed]",
      "text/plain": [
       "<Figure size 500x500 with 1 Axes>"
      ]
     },
     "metadata": {},
     "output_type": "display_data"
    },
    {
     "data": {
      "image/png": "[encoded data removed]",
      "text/plain": [
       "<Figure size 640x480 with 1 Axes>"
      ]
     },
     "metadata": {},
     "output_type": "display_data"
    },
    {
     "data": {
      "text/html": [
       "<div>\n",
       "<style scoped>\n",
       "    .dataframe tbody tr th:only-of-type {\n",
       "        vertical-align: middle;\n",
       "    }\n",
       "\n",
       "    .dataframe tbody tr th {\n",
       "        vertical-align: top;\n",
       "    }\n",
       "\n",
       "    .dataframe thead th {\n",
       "        text-align: right;\n",
       "    }\n",
       "</style>\n",
       "<table border=\"1\" class=\"dataframe\">\n",
       "  <thead>\n",
       "    <tr style=\"text-align: right;\">\n",
       "      <th></th>\n",
       "      <th>price</th>\n",
       "    </tr>\n",
       "  </thead>\n",
       "  <tbody>\n",
       "    <tr>\n",
       "      <th>count</th>\n",
       "      <td>17798.000000</td>\n",
       "    </tr>\n",
       "    <tr>\n",
       "      <th>mean</th>\n",
       "      <td>37.220052</td>\n",
       "    </tr>\n",
       "    <tr>\n",
       "      <th>std</th>\n",
       "      <td>127.466392</td>\n",
       "    </tr>\n",
       "    <tr>\n",
       "      <th>min</th>\n",
       "      <td>0.010000</td>\n",
       "    </tr>\n",
       "    <tr>\n",
       "      <th>25%</th>\n",
       "      <td>10.490000</td>\n",
       "    </tr>\n",
       "    <tr>\n",
       "      <th>50%</th>\n",
       "      <td>18.690000</td>\n",
       "    </tr>\n",
       "    <tr>\n",
       "      <th>75%</th>\n",
       "      <td>35.000000</td>\n",
       "    </tr>\n",
       "    <tr>\n",
       "      <th>max</th>\n",
       "      <td>10020.000000</td>\n",
       "    </tr>\n",
       "  </tbody>\n",
       "</table>\n",
       "</div>"
      ],
      "text/plain": [
       "              price\n",
       "count  17798.000000\n",
       "mean      37.220052\n",
       "std      127.466392\n",
       "min        0.010000\n",
       "25%       10.490000\n",
       "50%       18.690000\n",
       "75%       35.000000\n",
       "max    10020.000000"
      ]
     },
     "execution_count": 34,
     "metadata": {},
     "output_type": "execute_result"
    }
   ],
   "source": [
    "plt.clf()\n",
    "\n",
    "#sns.displot(product_data['rank'], stat='probability')\n",
    "sns.displot(product_data['price'],\n",
    "            stat='probability',\n",
    "            bins=200) \n",
    "plt.show()\n",
    "\n",
    "sns.boxplot(product_data['price'])\n",
    "plt.show()\n",
    "\n",
    "product_data.describe()"
   ]
  },
  {
   "cell_type": "code",
   "execution_count": 31,
   "metadata": {},
   "outputs": [],
   "source": [
    "# Drop high outlier of price\n",
    "\n",
    "product_data = product_data[product_data['price'] < 69990]"
   ]
  },
  {
   "cell_type": "markdown",
   "metadata": {},
   "source": [
    "## EDA summary \n",
    "\n",
    "### JA results\n",
    "\n",
    "**From my own EDA, it appears that:**\n",
    "- X\n",
    "- X\n",
    "\n",
    "**Next steps**\n",
    "- X\n",
    "\n",
    "### LLM results"
   ]
  },
  {
   "cell_type": "markdown",
   "metadata": {},
   "source": [
    "## Implement transformations and feature engineering"
   ]
  },
  {
   "cell_type": "code",
   "execution_count": null,
   "metadata": {},
   "outputs": [],
   "source": []
  },
  {
   "cell_type": "markdown",
   "metadata": {},
   "source": [
    "## Model specifications\n",
    "\n",
    "I am trying to predict product success defined as:\n",
    "- A rating above 4 stars one month after launch\n",
    "- A rating above 4 starts one month after launch and high engagment (above the median number of reviews)\n",
    "- A sales rank in the top 25% of a given product category\n",
    "- A rating above 4.75 starts one month after launch"
   ]
  },
  {
   "cell_type": "code",
   "execution_count": null,
   "metadata": {},
   "outputs": [],
   "source": []
  },
  {
   "cell_type": "markdown",
   "metadata": {},
   "source": [
    "## Model evaluation\n",
    "\n"
   ]
  },
  {
   "cell_type": "code",
   "execution_count": 11,
   "metadata": {},
   "outputs": [
    {
     "data": {
      "text/markdown": [
       "## Final model selection test test                 My optimal approach would be X.  "
      ],
      "text/plain": [
       "<IPython.core.display.Markdown object>"
      ]
     },
     "metadata": {},
     "output_type": "display_data"
    }
   ],
   "source": [
    "from IPython.display import Markdown, display\n",
    "\n",
    "display(Markdown(f\"## Final model selection test test \\\n",
    "                My optimal approach would be X.  \\\n",
    "                 The LLM's optimal approach would be:\"))"
   ]
  },
  {
   "cell_type": "code",
   "execution_count": null,
   "metadata": {},
   "outputs": [],
   "source": []
  }
 ],
 "metadata": {
  "kernelspec": {
   "display_name": ".venv",
   "language": "python",
   "name": "python3"
  },
  "language_info": {
   "codemirror_mode": {
    "name": "ipython",
    "version": 3
   },
   "file_extension": ".py",
   "mimetype": "text/x-python",
   "name": "python",
   "nbconvert_exporter": "python",
   "pygments_lexer": "ipython3",
   "version": "3.11.6"
  }
 },
 "nbformat": 4,
 "nbformat_minor": 2
}
