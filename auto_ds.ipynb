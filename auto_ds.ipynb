{
 "cells": [
  {
   "cell_type": "code",
   "execution_count": 1,
   "metadata": {},
   "outputs": [
    {
     "data": {
      "text/plain": [
       "<module 'amazon_parsing' from '/Users/jeremyalbright/Documents/GitHub/auto-product-ds/amazon_parsing.py'>"
      ]
     },
     "execution_count": 1,
     "metadata": {},
     "output_type": "execute_result"
    }
   ],
   "source": [
    "import numpy as np\n",
    "import pandas as pd\n",
    "from importlib import reload\n",
    "import amazon_parsing as ap\n",
    "reload(ap)"
   ]
  },
  {
   "cell_type": "markdown",
   "metadata": {},
   "source": [
    "## Import Amazon product data and reviews\n",
    "- Data description: https://cseweb.ucsd.edu/~jmcauley/datasets/amazon_v2/\n"
   ]
  },
  {
   "cell_type": "code",
   "execution_count": 4,
   "metadata": {},
   "outputs": [],
   "source": [
    "json_parser = ap.AmazonJSONParser()\n",
    "product_data = json_parser.parser('./input/meta_AMAZON_FASHION.json')\n",
    "review_data = json_parser.parser('./input/AMAZON_FASHION.json')"
   ]
  },
  {
   "cell_type": "markdown",
   "metadata": {},
   "source": [
    "## EDA"
   ]
  },
  {
   "cell_type": "code",
   "execution_count": 12,
   "metadata": {},
   "outputs": [
    {
     "name": "stdout",
     "output_type": "stream",
     "text": [
      "<class 'pandas.core.frame.DataFrame'>\n",
      "RangeIndex: 186637 entries, 0 to 186636\n",
      "Data columns (total 16 columns):\n",
      " #   Column           Non-Null Count   Dtype \n",
      "---  ------           --------------   ----- \n",
      " 0   title            186632 non-null  object\n",
      " 1   brand            139957 non-null  object\n",
      " 2   feature          123875 non-null  object\n",
      " 3   rank             180222 non-null  object\n",
      " 4   date             185001 non-null  object\n",
      " 5   asin             186637 non-null  object\n",
      " 6   imageURL         132017 non-null  object\n",
      " 7   imageURLHighRes  132017 non-null  object\n",
      " 8   description      15869 non-null   object\n",
      " 9   price            17799 non-null   object\n",
      " 10  also_view        11595 non-null   object\n",
      " 11  also_buy         21642 non-null   object\n",
      " 12  fit              4831 non-null    object\n",
      " 13  details          885 non-null     object\n",
      " 14  similar_item     317 non-null     object\n",
      " 15  tech1            97 non-null      object\n",
      "dtypes: object(16)\n",
      "memory usage: 22.8+ MB\n"
     ]
    }
   ],
   "source": [
    "product_data.info()"
   ]
  },
  {
   "cell_type": "markdown",
   "metadata": {},
   "source": [
    "## EDA summary \n",
    "\n",
    "### JA results\n",
    "\n",
    "**From my own EDA, it appears that:**\n",
    "- X\n",
    "- X\n",
    "\n",
    "**Next steps**\n",
    "- X\n",
    "\n",
    "### LLM results"
   ]
  },
  {
   "cell_type": "markdown",
   "metadata": {},
   "source": [
    "## Implement transformations and feature engineering"
   ]
  },
  {
   "cell_type": "code",
   "execution_count": null,
   "metadata": {},
   "outputs": [],
   "source": []
  },
  {
   "cell_type": "markdown",
   "metadata": {},
   "source": [
    "## Model specifications\n",
    "\n",
    "I am trying to predict product success defined as:\n",
    "- A rating above 4 stars one month after launch\n",
    "- A rating above 4 starts one month after launch and high engagment (above the median number of reviews)\n",
    "- A sales rank in the top 25% of a given product category\n",
    "- A rating above 4.75 starts one month after launch"
   ]
  },
  {
   "cell_type": "code",
   "execution_count": null,
   "metadata": {},
   "outputs": [],
   "source": []
  },
  {
   "cell_type": "markdown",
   "metadata": {},
   "source": [
    "## Model evaluation\n",
    "\n"
   ]
  },
  {
   "cell_type": "code",
   "execution_count": 11,
   "metadata": {},
   "outputs": [
    {
     "data": {
      "text/markdown": [
       "## Final model selection test test                 My optimal approach would be X.  "
      ],
      "text/plain": [
       "<IPython.core.display.Markdown object>"
      ]
     },
     "metadata": {},
     "output_type": "display_data"
    }
   ],
   "source": [
    "from IPython.display import Markdown, display\n",
    "\n",
    "display(Markdown(f\"## Final model selection test test \\\n",
    "                My optimal approach would be X.  \\\n",
    "                 The LLM's optimal approach would be:\"))"
   ]
  },
  {
   "cell_type": "code",
   "execution_count": null,
   "metadata": {},
   "outputs": [],
   "source": []
  }
 ],
 "metadata": {
  "kernelspec": {
   "display_name": ".venv",
   "language": "python",
   "name": "python3"
  },
  "language_info": {
   "codemirror_mode": {
    "name": "ipython",
    "version": 3
   },
   "file_extension": ".py",
   "mimetype": "text/x-python",
   "name": "python",
   "nbconvert_exporter": "python",
   "pygments_lexer": "ipython3",
   "version": "3.11.6"
  }
 },
 "nbformat": 4,
 "nbformat_minor": 2
}
